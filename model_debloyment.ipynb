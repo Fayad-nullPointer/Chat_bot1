{
 "cells": [
  {
   "cell_type": "code",
   "execution_count": 1,
   "id": "60b7ca57-c809-48de-9654-838e33694ce4",
   "metadata": {},
   "outputs": [],
   "source": [
    "import joblib"
   ]
  },
  {
   "cell_type": "code",
   "execution_count": 2,
   "id": "f6c060c6-9114-449d-ae66-e681f13d64ef",
   "metadata": {},
   "outputs": [],
   "source": [
    "pipe=joblib.load(r'D:\\\\grduation_project\\\\chat_bot.pkl')"
   ]
  },
  {
   "cell_type": "code",
   "execution_count": 3,
   "id": "037fca62-3d42-4482-848c-8a265bd10ea4",
   "metadata": {},
   "outputs": [
    {
     "name": "stdin",
     "output_type": "stream",
     "text": [
      "Enter Qustion what is history of qaitbay\n"
     ]
    },
    {
     "name": "stderr",
     "output_type": "stream",
     "text": [
      "Inferencing Samples: 100%|█████████████████████████████████████████████████████████| 1/1 [00:10<00:00, 10.72s/ Batches]\n"
     ]
    }
   ],
   "source": [
    "q=input(\"Enter Qustion\")\n",
    "prediction = pipe.run(\n",
    "    query=q, params={\"Retriever\": {\"top_k\": 10}, \"Reader\": {\"top_k\": 5}}\n",
    ")\n"
   ]
  },
  {
   "cell_type": "code",
   "execution_count": 3,
   "id": "3185cbe3-497c-4480-987a-724e4b252b74",
   "metadata": {},
   "outputs": [],
   "source": [
    "import tkinter as tk\n",
    "from tkinter import scrolledtext"
   ]
  },
  {
   "cell_type": "code",
   "execution_count": 8,
   "id": "15c2bfc4-8ce2-42f3-b780-6b2e5ee52b49",
   "metadata": {},
   "outputs": [
    {
     "name": "stderr",
     "output_type": "stream",
     "text": [
      "Inferencing Samples: 100%|█████████████████████████████████████████████████████████| 1/1 [00:09<00:00,  9.88s/ Batches]\n",
      "Inferencing Samples: 100%|█████████████████████████████████████████████████████████| 1/1 [00:09<00:00,  9.96s/ Batches]\n"
     ]
    }
   ],
   "source": [
    "import tkinter as tk\n",
    "from tkinter import scrolledtext\n",
    "import time\n",
    "import threading\n",
    "\n",
    "# Create the main window with a larger size\n",
    "root = tk.Tk()\n",
    "root.title(\"Chatbot\")\n",
    "root.geometry(\"600x700\")  # Increased window size\n",
    "\n",
    "# Create a scrollable text area to display the conversation with more height\n",
    "chat_area = scrolledtext.ScrolledText(root, wrap=tk.WORD, state='disabled', font=(\"Arial\", 14), height=20)\n",
    "chat_area.pack(pady=10, padx=10, fill=tk.BOTH, expand=True)\n",
    "\n",
    "# Function to display the user's message and the bot's response\n",
    "def display_message():\n",
    "    user_message = entry_box.get(\"1.0\", 'end-1c')\n",
    "    prediction = pipe.run(\n",
    "        query=user_message, params={\"Retriever\": {\"top_k\": 10}, \"Reader\": {\"top_k\": 5}})  \n",
    "\n",
    "    if user_message != \"\":\n",
    "        chat_area.configure(state='normal')\n",
    "        chat_area.insert(tk.END, \"You: \" + user_message + \"\\n\")\n",
    "        chat_area.configure(state='disabled')\n",
    "        chat_area.yview(tk.END)\n",
    "        entry_box.delete(\"1.0\", tk.END)\n",
    "\n",
    "        # Simulate a delay in the bot's response\n",
    "        def delayed_response():\n",
    "            time.sleep(5)  # 5-second delay\n",
    "            chat_area.configure(state='normal')\n",
    "            bot_response = prediction['answers'][0].answer\n",
    "            chat_area.insert(tk.END, \"Bot: \" + bot_response + \"\\n\")\n",
    "            limit_chat_history()\n",
    "            chat_area.configure(state='disabled')\n",
    "            chat_area.yview(tk.END)\n",
    "\n",
    "        threading.Thread(target=delayed_response).start()\n",
    "\n",
    "def limit_chat_history(max_words=200):\n",
    "    chat_area.configure(state='normal')\n",
    "    text_content = chat_area.get(\"1.0\", tk.END)\n",
    "    words = text_content.split()\n",
    "\n",
    "    if len(words) > max_words:\n",
    "        new_content = \" \".join(words[-max_words:])\n",
    "        chat_area.delete(\"1.0\", tk.END)\n",
    "        chat_area.insert(tk.END, new_content + \"\\n\")\n",
    "\n",
    "    chat_area.configure(state='disabled')\n",
    "\n",
    "# Create an entry box for user input with increased height\n",
    "entry_box = tk.Text(root, height=3, font=(\"Arial\", 14))\n",
    "entry_box.pack(pady=10, padx=10, fill=tk.X, expand=True)\n",
    "\n",
    "# Create a button to send the message\n",
    "send_button = tk.Button(root, text=\"Send\", command=display_message, font=(\"Arial\", 14))\n",
    "send_button.pack(pady=10)\n",
    "\n",
    "# Run the application\n",
    "root.mainloop()\n"
   ]
  },
  {
   "cell_type": "markdown",
   "id": "227ef488-72bb-4318-9b85-abe4c94b6aba",
   "metadata": {},
   "source": []
  }
 ],
 "metadata": {
  "kernelspec": {
   "display_name": "Python 3 (ipykernel)",
   "language": "python",
   "name": "python3"
  },
  "language_info": {
   "codemirror_mode": {
    "name": "ipython",
    "version": 3
   },
   "file_extension": ".py",
   "mimetype": "text/x-python",
   "name": "python",
   "nbconvert_exporter": "python",
   "pygments_lexer": "ipython3",
   "version": "3.12.0"
  }
 },
 "nbformat": 4,
 "nbformat_minor": 5
}
