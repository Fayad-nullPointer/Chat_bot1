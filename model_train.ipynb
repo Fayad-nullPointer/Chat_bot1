{
 "cells": [
  {
   "cell_type": "markdown",
   "id": "0cf5a730-82fb-4e02-a708-0e2aba3a17a8",
   "metadata": {},
   "source": [
    "# %%bash\n",
    "\n",
    "pip install --upgrade pip\n",
    "pip install farm-haystack\n"
   ]
  },
  {
   "cell_type": "code",
   "execution_count": 1,
   "id": "f21b6457-ae64-4052-b14e-b8b5eef3ebce",
   "metadata": {},
   "outputs": [],
   "source": [
    "from haystack.document_stores import InMemoryDocumentStore\n",
    "\n",
    "document_store = InMemoryDocumentStore(use_bm25=True)\n"
   ]
  },
  {
   "cell_type": "code",
   "execution_count": 2,
   "id": "ee8ced7f-2e51-4d86-a17b-3439bced9948",
   "metadata": {},
   "outputs": [],
   "source": [
    "doc_dir = r'D:\\grduation_project\\datasets'"
   ]
  },
  {
   "cell_type": "code",
   "execution_count": 3,
   "id": "8d153a8c-eb17-48ed-9b94-4fb50d5e7902",
   "metadata": {},
   "outputs": [
    {
     "name": "stderr",
     "output_type": "stream",
     "text": [
      "Converting files: 100%|█████████████████████████████████████████████████████████████████| 1/1 [00:00<00:00, 153.46it/s]\n",
      "Preprocessing: 100%|███████████████████████████████████████████████████████████████████| 1/1 [00:00<00:00, 12.80docs/s]\n",
      "Updating BM25 representation...: 100%|███████████████████████████████████████████████| 4/4 [00:00<00:00, 255.96 docs/s]\n"
     ]
    },
    {
     "data": {
      "text/plain": [
       "{'documents': [<Document: {'content': 'The Qaitbay Citadel in Alexandria is considered one of the most important defensive strongholds, not only in Egypt, but also along the Mediterranean Sea coast. It formulated an important part of the fortification system of Alexandria in the 15th century AD.[4][5][6]\\n\\nLighthouse of Alexandria\\nThe Citadel is situated at the entrance of the eastern harbour on the eastern point of Pharos Island. It was erected on the site of the former Lighthouse of Alexandria, which was one of the Seven Wonders of the Ancient World. Many structural modifications were made to the lighthouse after the Arab conquest of Egypt, but the lighthouse continued to function for many centuries. Restoration began in the period of Ahmed Ibn Tulun (about 880 AD). During the 11th century an earthquake occurred, causing damage to the octagonal part. The bottom survived, but it could only serve as a watchtower, and a small mosque was built on the top. Two very destructive earthquakes occurred in 1303 and 1323, which resulted in the complete destruction of the lighthouse.\\n\\n', 'content_type': 'text', 'score': None, 'meta': {'_split_id': 0}, 'id_hash_keys': ['content'], 'embedding': None, 'id': 'b7bf71dae923da8015b0a0eba6ba54f5'}>,\n",
       "  <Document: {'content': '15th-century fortifications\\nAbout 1480 AD, the Circassian Mameluke Sultan Al-Ashraf Qaitbay fortified the place as part of his coastal defensive edifices against the Turks, who were threatening Egypt at that time. He built the fortress and placed a mosque inside it. The Citadel continued to function during most of the Mameluke period, the Ottoman period and the Modern period, but after the British bombardment of Alexandria in 1882, it was kept out of the spotlight. It became neglected until the 20th century, when it was restored several times by the Egyptian Supreme Council of Antiquities.\\n\\nThe founder of the Citadel of Qaitbay is a Circassian Sultan named Al-Ashraf Abou Anasr Saif El-Din Qaitbay El-Jerkasy Al-Zahiry (14681496 AD) who was born about 1423 AD (826 AH). He was a Mamluke who had come to Egypt as a young man, less than 20 years old. Bought by Al-Ashraf Bersbay, he remained among his attendants until Al-Ashraf Bersbay died. Then the Sultan Jaqmaq bought Qaitbay, and later gave him his freedom. Qaitbay then went on to occupy various posts. He became the Chief of the Army (Atabec Al-Askar) during the rule of the Sultan Timurbugha. ', 'content_type': 'text', 'score': None, 'meta': {'_split_id': 1}, 'id_hash_keys': ['content'], 'embedding': None, 'id': '1e9ac595dbaf2531197c24d8966424f7'}>,\n",
       "  <Document: {'content': \"When the Sultan was dethroned, Qaitbay was appointed as a Sultan who was titled Almalek Al-Ashraf on Monday 26th Ragab, 872 AH (1468 AD).\\n\\nThe edifice's mason\\nQaitbay was so fond of art and architecture that he created an important post among the administrative system of the state; it was the Edifices Mason (Shady Al-Ama'er). He built many beneficial constructions in Mecca, Medina, and Jerusalem. In Egypt there are about 70 renovated edifices attributed to him, among them are mosques, Madrasas, agencies, Fountain houses (Sabils), Kuttabs, houses, military edifices like the Citadels in Alexandria and Rosetta (Nowadays the city of Rashid). These Citadels were built to protect the north of Egypt, mainly against the Ottomans, whose power was increasing in the Mediterranean.\\n\\nQagmas Al-Eshaqy, The Edifices Mason, was the architect of the Citadel. Before his arrival in Egypt he was a Mameluke of Djakmaq in Syria. During the rule of Qaitbay he became the edifices mason, and then the Viceroy of Alexandria. He was appointed governor of Syria (Damascus), built a Mosque outside the gate of Rashid (Bab Rashid) as well as a Cenotaph and a Khan. \", 'content_type': 'text', 'score': None, 'meta': {'_split_id': 2}, 'id_hash_keys': ['content'], 'embedding': None, 'id': 'ccc19438f3febe7bc726236dbcdc67bc'}>,\n",
       "  <Document: {'content': 'He also renovated the Mosque of El-Sawary outside the gate of Sadrah (Bab Sadrah).\\n\\nQagmas was intelligent and modest, as well as the overseer of many constructions during the time of Qaitbay. In 882 AH (1477 AD) the Sultan Qaitbay visited the site of the old lighthouse in Alexandria and ordered a fortress to be built on its foundations. The construction lasted about 2 years, and it is said that Qaitbay spent more than a hundred thousand gold dinars for the work on the Citadel.', 'content_type': 'text', 'score': None, 'meta': {'_split_id': 3}, 'id_hash_keys': ['content'], 'embedding': None, 'id': '1655a393feb6a372831319687d916cbc'}>],\n",
       " 'root_node': 'File',\n",
       " 'params': {},\n",
       " 'file_paths': ['D:\\\\grduation_project\\\\datasets/history.txt'],\n",
       " 'node_id': 'DocumentStore'}"
      ]
     },
     "execution_count": 3,
     "metadata": {},
     "output_type": "execute_result"
    }
   ],
   "source": [
    "import os\n",
    "from haystack.pipelines.standard_pipelines import TextIndexingPipeline\n",
    "\n",
    "files_to_index = [doc_dir + \"/\" + f for f in os.listdir(doc_dir)]\n",
    "indexing_pipeline = TextIndexingPipeline(document_store)\n",
    "indexing_pipeline.run_batch(file_paths=files_to_index)"
   ]
  },
  {
   "cell_type": "code",
   "execution_count": 4,
   "id": "bdfd32db-0d53-4f5b-8860-4c722b988179",
   "metadata": {},
   "outputs": [],
   "source": [
    "from haystack.nodes import BM25Retriever\n",
    "\n",
    "retriever = BM25Retriever(document_store=document_store)\n"
   ]
  },
  {
   "cell_type": "code",
   "execution_count": 5,
   "id": "6ebf5200-f0b8-4f34-88db-1d3bc26d9637",
   "metadata": {},
   "outputs": [
    {
     "name": "stderr",
     "output_type": "stream",
     "text": [
      "D:\\Huggingface\\venv\\Lib\\site-packages\\huggingface_hub\\file_download.py:1132: FutureWarning: `resume_download` is deprecated and will be removed in version 1.0.0. Downloads always resume when possible. If you want to force a new download, use `force_download=True`.\n",
      "  warnings.warn(\n"
     ]
    },
    {
     "data": {
      "application/vnd.jupyter.widget-view+json": {
       "model_id": "598e510ef0ec4db99ca2e4a162360da4",
       "version_major": 2,
       "version_minor": 0
      },
      "text/plain": [
       "model.safetensors:  46%|####6     | 231M/496M [00:00<?, ?B/s]"
      ]
     },
     "metadata": {},
     "output_type": "display_data"
    },
    {
     "name": "stderr",
     "output_type": "stream",
     "text": [
      "D:\\Huggingface\\venv\\Lib\\site-packages\\huggingface_hub\\file_download.py:157: UserWarning: `huggingface_hub` cache-system uses symlinks by default to efficiently store duplicated files but your machine does not support them in C:\\Users\\Mega Store\\.cache\\huggingface\\hub\\models--deepset--roberta-base-squad2. Caching files will still work but in a degraded version that might require more space on your disk. This warning can be disabled by setting the `HF_HUB_DISABLE_SYMLINKS_WARNING` environment variable. For more details, see https://huggingface.co/docs/huggingface_hub/how-to-cache#limitations.\n",
      "To support symlinks on Windows, you either need to activate Developer Mode or to run Python as an administrator. In order to see activate developer mode, see this article: https://docs.microsoft.com/en-us/windows/apps/get-started/enable-your-device-for-development\n",
      "  warnings.warn(message)\n"
     ]
    },
    {
     "data": {
      "application/vnd.jupyter.widget-view+json": {
       "model_id": "2bd5ab43543441bea0cfd55d0228616f",
       "version_major": 2,
       "version_minor": 0
      },
      "text/plain": [
       "tokenizer_config.json:   0%|          | 0.00/79.0 [00:00<?, ?B/s]"
      ]
     },
     "metadata": {},
     "output_type": "display_data"
    },
    {
     "data": {
      "application/vnd.jupyter.widget-view+json": {
       "model_id": "a2cadeb902c84028a7a10e9634487f70",
       "version_major": 2,
       "version_minor": 0
      },
      "text/plain": [
       "vocab.json:   0%|          | 0.00/899k [00:00<?, ?B/s]"
      ]
     },
     "metadata": {},
     "output_type": "display_data"
    },
    {
     "data": {
      "application/vnd.jupyter.widget-view+json": {
       "model_id": "a85ab648b62647fe96403925764bbca2",
       "version_major": 2,
       "version_minor": 0
      },
      "text/plain": [
       "merges.txt:   0%|          | 0.00/456k [00:00<?, ?B/s]"
      ]
     },
     "metadata": {},
     "output_type": "display_data"
    },
    {
     "data": {
      "application/vnd.jupyter.widget-view+json": {
       "model_id": "d7903ffcc52646ae83d702e596ed1169",
       "version_major": 2,
       "version_minor": 0
      },
      "text/plain": [
       "special_tokens_map.json:   0%|          | 0.00/772 [00:00<?, ?B/s]"
      ]
     },
     "metadata": {},
     "output_type": "display_data"
    }
   ],
   "source": [
    "from haystack.nodes import FARMReader\n",
    "\n",
    "reader = FARMReader(model_name_or_path=\"deepset/roberta-base-squad2\", use_gpu=True)\n"
   ]
  },
  {
   "cell_type": "code",
   "execution_count": 6,
   "id": "f3497d54-1e0a-4856-9469-61dc79af7bb7",
   "metadata": {},
   "outputs": [],
   "source": [
    "from haystack.pipelines import ExtractiveQAPipeline\n",
    "\n",
    "pipe = ExtractiveQAPipeline(reader, retriever)\n"
   ]
  },
  {
   "cell_type": "code",
   "execution_count": 50,
   "id": "1c14fea8-08f6-4d12-9f8c-bc197bb8130c",
   "metadata": {},
   "outputs": [
    {
     "name": "stdin",
     "output_type": "stream",
     "text": [
      "Enter Qustion what is history of qaitbay\n"
     ]
    },
    {
     "name": "stderr",
     "output_type": "stream",
     "text": [
      "Inferencing Samples: 100%|█████████████████████████████████████████████████████████| 1/1 [00:09<00:00,  9.92s/ Batches]\n"
     ]
    }
   ],
   "source": [
    "q=input(\"Enter Qustion\")\n",
    "prediction = pipe.run(\n",
    "    query=q, params={\"Retriever\": {\"top_k\": 10}, \"Reader\": {\"top_k\": 5}}\n",
    ")\n"
   ]
  },
  {
   "cell_type": "code",
   "execution_count": 51,
   "id": "e400750d-4c9a-4525-bb62-84c1c42837a4",
   "metadata": {},
   "outputs": [
    {
     "data": {
      "text/plain": [
       "'The Qaitbay Citadel in Alexandria is considered one of the most important defensive strongholds, not only in Egypt, but also along the Mediterranean Sea coast. It formulated an important part of the fortification system of Alexandria in the 15th century AD.[4][5][6]\\n\\nLighthouse of Alexandria\\nThe Citadel is situated at the entrance of the eastern harbour on the eastern point of Pharos Island. It was erected on the site of the former Lighthouse of Alexandria, which was one of the Seven Wonders of the Ancient World. Many structural modifications were made to the lighthouse after the Arab conquest of Egypt, but the lighthouse continued to function for many centuries'"
      ]
     },
     "execution_count": 51,
     "metadata": {},
     "output_type": "execute_result"
    }
   ],
   "source": [
    "prediction['answers'][0].answer"
   ]
  },
  {
   "cell_type": "code",
   "execution_count": null,
   "id": "1536620c-ac46-4ba2-b214-a652e7e155c7",
   "metadata": {},
   "outputs": [],
   "source": [
    "from pprint import pprint\n",
    "\n",
    "pprint(prediction)\n"
   ]
  },
  {
   "cell_type": "code",
   "execution_count": null,
   "id": "c9ee4755-1860-4027-9a10-c3f0ebefaf47",
   "metadata": {},
   "outputs": [],
   "source": [
    "from haystack.utils import print_answers\n",
    "\n",
    "print_answers(prediction, details=\"minimum\")  ## Choose from `minimum`, `medium`, and `all`\n"
   ]
  },
  {
   "cell_type": "code",
   "execution_count": 1,
   "id": "cdfbf92d-8e11-489c-b55b-9c017d652102",
   "metadata": {},
   "outputs": [],
   "source": [
    "import joblib"
   ]
  },
  {
   "cell_type": "code",
   "execution_count": 54,
   "id": "91184f2c-52f4-4096-a13f-67088f0542d6",
   "metadata": {},
   "outputs": [
    {
     "name": "stderr",
     "output_type": "stream",
     "text": [
      "<>:1: SyntaxWarning: invalid escape sequence '\\g'\n",
      "<>:1: SyntaxWarning: invalid escape sequence '\\g'\n",
      "C:\\Users\\Mega Store\\AppData\\Local\\Temp\\ipykernel_7920\\2410186498.py:1: SyntaxWarning: invalid escape sequence '\\g'\n",
      "  joblib.dump(pipe,'D:\\grduation_project\\chat_bot.pkl')\n"
     ]
    },
    {
     "data": {
      "text/plain": [
       "['D:\\\\grduation_project\\\\chat_bot.pkl']"
      ]
     },
     "execution_count": 54,
     "metadata": {},
     "output_type": "execute_result"
    }
   ],
   "source": [
    "joblib.dump(pipe,'D:\\grduation_project\\chat_bot.pkl')"
   ]
  },
  {
   "cell_type": "code",
   "execution_count": 2,
   "id": "a8f644b6-51a5-430c-aaff-e3415fab32a0",
   "metadata": {},
   "outputs": [],
   "source": [
    "pipe=joblib.load(r'D:\\\\grduation_project\\\\chat_bot.pkl')"
   ]
  },
  {
   "cell_type": "code",
   "execution_count": 13,
   "id": "56c924a1-7173-4295-ad12-8b91020968a8",
   "metadata": {},
   "outputs": [
    {
     "name": "stdin",
     "output_type": "stream",
     "text": [
      "Enter Qustion who is build quitbay citadel\n"
     ]
    },
    {
     "name": "stderr",
     "output_type": "stream",
     "text": [
      "Inferencing Samples: 100%|█████████████████████████████████████████████████████████| 1/1 [00:09<00:00,  9.04s/ Batches]\n"
     ]
    }
   ],
   "source": [
    "q=input(\"Enter Qustion\")\n",
    "prediction = pipe.run(\n",
    "    query=q, params={\"Retriever\": {\"top_k\": 10}, \"Reader\": {\"top_k\": 5}}\n",
    ")\n"
   ]
  },
  {
   "cell_type": "code",
   "execution_count": 14,
   "id": "7330c714-9330-459c-be7a-349b18aa8b71",
   "metadata": {},
   "outputs": [
    {
     "data": {
      "text/plain": [
       "'Qagmas Al-Eshaqy'"
      ]
     },
     "execution_count": 14,
     "metadata": {},
     "output_type": "execute_result"
    }
   ],
   "source": [
    "prediction['answers'][0].answer"
   ]
  },
  {
   "cell_type": "code",
   "execution_count": null,
   "id": "235455d7-6ad6-402b-91bb-72931d2bdfc0",
   "metadata": {},
   "outputs": [],
   "source": []
  }
 ],
 "metadata": {
  "kernelspec": {
   "display_name": "Python 3 (ipykernel)",
   "language": "python",
   "name": "python3"
  },
  "language_info": {
   "codemirror_mode": {
    "name": "ipython",
    "version": 3
   },
   "file_extension": ".py",
   "mimetype": "text/x-python",
   "name": "python",
   "nbconvert_exporter": "python",
   "pygments_lexer": "ipython3",
   "version": "3.12.0"
  }
 },
 "nbformat": 4,
 "nbformat_minor": 5
}
